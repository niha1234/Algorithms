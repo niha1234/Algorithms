{
 "cells": [
  {
   "cell_type": "code",
   "execution_count": 6,
   "metadata": {
    "collapsed": false
   },
   "outputs": [
    {
     "name": "stdout",
     "output_type": "stream",
     "text": [
      "999999\n",
      "6\n"
     ]
    }
   ],
   "source": [
    "import sys\n",
    "def get_fibonacci_last_digit_fast(n):\n",
    "    a = 0\n",
    "    b = 1\n",
    "    c = 0\n",
    "    \n",
    "    if n < 0:\n",
    "        return print(\"incorrect Output\")\n",
    "        \n",
    "    if n == 0:\n",
    "        return a\n",
    "    if n == 1:\n",
    "        return b\n",
    "    else:\n",
    "        for i in range(n-1):\n",
    "            c = (a+b)%10\n",
    "            a= b\n",
    "            b=c\n",
    "            \n",
    "        \n",
    "        \n",
    "        return b\n",
    "\n",
    "\n",
    "    \n",
    "n = int(input())\n",
    "print(get_fibonacci_last_digit_fast(n))\n"
   ]
  },
  {
   "cell_type": "code",
   "execution_count": null,
   "metadata": {
    "collapsed": true
   },
   "outputs": [],
   "source": []
  },
  {
   "cell_type": "code",
   "execution_count": null,
   "metadata": {
    "collapsed": true
   },
   "outputs": [],
   "source": []
  }
 ],
 "metadata": {
  "kernelspec": {
   "display_name": "Python 3",
   "language": "python",
   "name": "python3"
  },
  "language_info": {
   "codemirror_mode": {
    "name": "ipython",
    "version": 3
   },
   "file_extension": ".py",
   "mimetype": "text/x-python",
   "name": "python",
   "nbconvert_exporter": "python",
   "pygments_lexer": "ipython3",
   "version": "3.6.6"
  }
 },
 "nbformat": 4,
 "nbformat_minor": 2
}
