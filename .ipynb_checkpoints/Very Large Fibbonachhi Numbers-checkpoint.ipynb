{
 "cells": [
  {
   "cell_type": "code",
   "execution_count": 46,
   "metadata": {
    "collapsed": false
   },
   "outputs": [
    {
     "data": {
      "text/plain": [
       "161"
      ]
     },
     "execution_count": 46,
     "metadata": {},
     "output_type": "execute_result"
    }
   ],
   "source": [
    "def pisanoPeriod(m): \n",
    "    a, b = 0, 1\n",
    "    for i in range(0, m * m): \n",
    "        a, b = b, (a + b) % m \n",
    "          \n",
    "        # A Pisano Period starts with 01 \n",
    "        if (a == 0 and b == 1): \n",
    "            return i + 1\n",
    "    \n",
    "    \n",
    "def get_fibonacci_huge_fast(n, m):\n",
    "    pisano_period = pisanoPeriod(m) \n",
    "      \n",
    "    # Taking mod of N with  \n",
    "    # period length \n",
    "    n = n % pisano_period \n",
    "      \n",
    "    a, b = 0, 1\n",
    "    if n==0: \n",
    "        return 0\n",
    "    elif n==1: \n",
    "        return 1\n",
    "    for i in range(n-1): \n",
    "        a, b = b, a + b\n",
    "          \n",
    "    return (b % m) \n",
    "get_fibonacci_huge_naive(239,1000)"
   ]
  },
  {
   "cell_type": "code",
   "execution_count": 47,
   "metadata": {
    "collapsed": true
   },
   "outputs": [],
   "source": [
    "def get_fibonacci_huge_naive(n, m):\n",
    "    if n <= 1:\n",
    "        return n\n",
    "\n",
    "    previous = 0\n",
    "    current  = 1\n",
    "\n",
    "    for _ in range(n - 1):\n",
    "        previous, current = current, previous + current\n",
    "\n",
    "    return current % m"
   ]
  },
  {
   "cell_type": "code",
   "execution_count": 48,
   "metadata": {
    "collapsed": false
   },
   "outputs": [
    {
     "data": {
      "text/plain": [
       "2"
      ]
     },
     "execution_count": 48,
     "metadata": {},
     "output_type": "execute_result"
    }
   ],
   "source": [
    "get_fibonacci_huge_naive(3,7)"
   ]
  },
  {
   "cell_type": "code",
   "execution_count": null,
   "metadata": {
    "collapsed": true
   },
   "outputs": [],
   "source": []
  }
 ],
 "metadata": {
  "kernelspec": {
   "display_name": "Python 3",
   "language": "python",
   "name": "python3"
  },
  "language_info": {
   "codemirror_mode": {
    "name": "ipython",
    "version": 3
   },
   "file_extension": ".py",
   "mimetype": "text/x-python",
   "name": "python",
   "nbconvert_exporter": "python",
   "pygments_lexer": "ipython3",
   "version": "3.6.6"
  }
 },
 "nbformat": 4,
 "nbformat_minor": 2
}
