{
 "cells": [
  {
   "cell_type": "code",
   "execution_count": 2,
   "metadata": {
    "collapsed": false,
    "scrolled": true
   },
   "outputs": [
    {
     "name": "stdout",
     "output_type": "stream",
     "text": [
      "3\n",
      "1 2 3\n",
      "[1, 2, 3]\n",
      "6\n"
     ]
    }
   ],
   "source": [
    "import time\n",
    "\n",
    "def max_pairwise_productNaive(numbers):\n",
    "    n = len(numbers)\n",
    "    print(numbers)\n",
    "    max_product = 0\n",
    "    \n",
    "    for first in range(n):\n",
    "        for second in range(first + 1, n):\n",
    "            max_product = max(max_product,\n",
    "                numbers[first] * numbers[second])\n",
    "\n",
    "    return max_product\n",
    "\n",
    "\n",
    "if __name__ == '__main__':\n",
    "    input_n = int(input())\n",
    "    input_numbers = [int(x) for x in input().split()]\n",
    "    print(max_pairwise_productNaive(input_numbers))\n",
    "    #print(time.clock())\n"
   ]
  },
  {
   "cell_type": "code",
   "execution_count": 1,
   "metadata": {
    "collapsed": false
   },
   "outputs": [
    {
     "name": "stdout",
     "output_type": "stream",
     "text": [
      "3\n",
      "1 2 3\n",
      "6\n"
     ]
    }
   ],
   "source": [
    "def max_pairwise_productFast(numbers):\n",
    "    n = len(numbers)\n",
    "    if n == 1:\n",
    "        return numbers[0]\n",
    "    \n",
    "    if n == 2:\n",
    "        return numbers[0]*numbers[1]\n",
    "    \n",
    "    index1 = 1\n",
    "    index2 = 1\n",
    "    for i in range(2,n):\n",
    "        \n",
    "        if numbers[i] > numbers[index1]:\n",
    "            index2 = index1\n",
    "            index1 = i\n",
    "        elif numbers[i] > numbers[index2]:\n",
    "            index2 = i \n",
    "        \n",
    "    return numbers[index1]*numbers[index2]\n",
    "\n",
    "if __name__ == '__main__':\n",
    "    input_n = int(input())\n",
    "    input_numbers = [int(x) for x in input().split()]\n",
    "    print(max_pairwise_productFast(input_numbers))\n",
    "    #print(time.clock())\n"
   ]
  },
  {
   "cell_type": "code",
   "execution_count": null,
   "metadata": {
    "collapsed": false
   },
   "outputs": [],
   "source": [
    "## Stress Test in main function\n",
    "\n",
    "import random\n",
    "def max_pairwise_productNaive(numbers):\n",
    "    n = len(numbers)\n",
    "    print(numbers)\n",
    "    max_product = 0\n",
    "    \n",
    "    for first in range(n):\n",
    "        for second in range(first + 1, n):\n",
    "            max_product = max(max_product,\n",
    "                numbers[first] * numbers[second])\n",
    "\n",
    "    return max_product\n",
    "\n",
    "def max_pairwise_productFast(numbers):\n",
    "    n = len(numbers)\n",
    "    if n == 1:\n",
    "        return numbers[0]\n",
    "    \n",
    "    if n == 2:\n",
    "        return numbers[0]*numbers[1]\n",
    "    \n",
    "    index1 = 1\n",
    "    index2 = 1\n",
    "    for i in range(2,n):\n",
    "        \n",
    "        if numbers[i] > numbers[index1]:\n",
    "            index2 = index1\n",
    "            index1 = i\n",
    "        elif numbers[i] > numbers[index2]:\n",
    "            index2 = i\n",
    "            \n",
    "        \n",
    "        \n",
    "    return numbers[index1]*numbers[index2]\n",
    "\n",
    "\n",
    "if __name__ == '__main__':\n",
    "    \n",
    "    while True:\n",
    "        n = random.randint(0,1000)+2\n",
    "        print(n)\n",
    "        a = []\n",
    "        for i in range(1,n):\n",
    "            a.append(random.randint(0,10000))\n",
    "        print(a)\n",
    "        res1 = max_pairwise_productNaive(a)\n",
    "        res2 = max_pairwise_productFast(a)\n",
    "        \n",
    "        if res1 != res2:\n",
    "            print('Wrong answer', res1,\"   \", res2)\n",
    "            break\n",
    "        else:\n",
    "            print(\"OK\")\n",
    "    #input_n = int(input())\n",
    "    #input_numbers = [int(x) for x in input().split()]\n",
    "    \n",
    "    \n",
    "    #print(max_pairwise_productFast(input_numbers))\n",
    "    #print(time.clock())\n"
   ]
  },
  {
   "cell_type": "raw",
   "metadata": {
    "collapsed": true
   },
   "source": [
    "i = [2,3,4]\n",
    "print(i[1])"
   ]
  },
  {
   "cell_type": "code",
   "execution_count": null,
   "metadata": {
    "collapsed": true
   },
   "outputs": [],
   "source": []
  },
  {
   "cell_type": "code",
   "execution_count": null,
   "metadata": {
    "collapsed": true
   },
   "outputs": [],
   "source": []
  }
 ],
 "metadata": {
  "kernelspec": {
   "display_name": "Python 3",
   "language": "python",
   "name": "python3"
  },
  "language_info": {
   "codemirror_mode": {
    "name": "ipython",
    "version": 3
   },
   "file_extension": ".py",
   "mimetype": "text/x-python",
   "name": "python",
   "nbconvert_exporter": "python",
   "pygments_lexer": "ipython3",
   "version": "3.6.6"
  }
 },
 "nbformat": 4,
 "nbformat_minor": 2
}
